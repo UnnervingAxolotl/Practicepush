{
 "cells": [
  {
   "cell_type": "markdown",
   "id": "64b779d8",
   "metadata": {
    "id": "64b779d8"
   },
   "source": [
    "## **Homework 2: Basic Markdown, Python Variables, Math Operations, User Input, and PEMDAS**\n",
    "\n",
    "This homework is designed to enhance your understanding of several fundamental concepts in Python and Jupyter Notebooks, including Markdown formatting, variable assignment, basic mathematics operations, handling user input, and the order of operations (PEMDAS).\n",
    "\n",
    "**Instructions:**\n",
    "- Answer each question in the notebook, using a Markdown cell for explanations and a code cell for Python code.\n",
    "- Ensure to execute your Python code to display the answers where applicable.\n"
   ]
  },
  {
   "cell_type": "markdown",
   "id": "ec00d08e",
   "metadata": {
    "id": "ec00d08e"
   },
   "source": [
    "1. Show what Markdown is used for in Jupyter Notebooks."
   ]
  },
  {
   "cell_type": "markdown",
   "id": "db01e2c7",
   "metadata": {
    "id": "EthAekKTyeBX"
   },
   "source": [
    "\n",
    "Markdown can be used in Jupyter Notebooks as a way to format text in conjunction with programming languages such as Python.\n",
    "\n"
   ]
  },
  {
   "cell_type": "markdown",
   "id": "9f44594b",
   "metadata": {
    "id": "9f44594b"
   },
   "source": [
    "2. Show how to format text to be bold in Markdown? Provide an example."
   ]
  },
  {
   "cell_type": "markdown",
   "id": "14d95cb4",
   "metadata": {
    "id": "dyEdcesiyngl"
   },
   "source": [
    "\n",
    "**This sentence is bold.**\n",
    "\n",
    "\n"
   ]
  },
  {
   "cell_type": "markdown",
   "id": "d3729096",
   "metadata": {
    "id": "d3729096"
   },
   "source": [
    "3. Create a Python variable named `a` and assign it the value 5."
   ]
  },
  {
   "cell_type": "code",
   "execution_count": null,
   "id": "59ee5aa4",
   "metadata": {
    "id": "59ee5aa4"
   },
   "outputs": [],
   "source": [
    "# Variable named \"a\" with a value of 5\n",
    "a = 5\n",
    "\n",
    "\n",
    "\n",
    "\n"
   ]
  },
  {
   "cell_type": "markdown",
   "id": "4ea5fd99",
   "metadata": {
    "id": "4ea5fd99"
   },
   "source": [
    "4. Perform an addition operation with any two numbers and display the result."
   ]
  },
  {
   "cell_type": "code",
   "execution_count": 1,
   "id": "8b419b80",
   "metadata": {
    "id": "8b419b80"
   },
   "outputs": [
    {
     "data": {
      "text/plain": [
       "7"
      ]
     },
     "execution_count": 1,
     "metadata": {},
     "output_type": "execute_result"
    }
   ],
   "source": [
    "# The sum of 3 and 4\n",
    "result = 3 + 4\n",
    "result\n",
    "\n",
    "\n"
   ]
  },
  {
   "cell_type": "markdown",
   "id": "809fea36",
   "metadata": {
    "id": "809fea36"
   },
   "source": [
    "5. Divide 15 by 3 and show the result."
   ]
  },
  {
   "cell_type": "code",
   "execution_count": null,
   "id": "be300337",
   "metadata": {
    "id": "be300337"
   },
   "outputs": [],
   "source": [
    "# The quotient of 15 divided by 3\n",
    "15/3\n",
    "\n",
    "result\n",
    "\n",
    "\n"
   ]
  },
  {
   "cell_type": "markdown",
   "id": "7b0f891c",
   "metadata": {
    "id": "7b0f891c"
   },
   "source": [
    "6. Use the `input()` function to ask the user for their name and then greet them."
   ]
  },
  {
   "cell_type": "code",
   "execution_count": null,
   "id": "ab2198cc",
   "metadata": {
    "id": "ab2198cc"
   },
   "outputs": [],
   "source": [
    "# Asking user for their name\n",
    "name = input(\"May I have your name?: \")\n",
    "# Greeting user with their name\n",
    "print(\"It's very nice to meet you \" + name + \".\")\n",
    "\n",
    "\n",
    "\n",
    "\n",
    "\n"
   ]
  },
  {
   "cell_type": "markdown",
   "id": "181413d2",
   "metadata": {
    "id": "181413d2"
   },
   "source": [
    "7. Calculate the square of 7 and display the result."
   ]
  },
  {
   "cell_type": "code",
   "execution_count": null,
   "id": "18b86315",
   "metadata": {
    "id": "18b86315"
   },
   "outputs": [],
   "source": [
    "# The calculation and result of the square of 7\n",
    "result = 7**2\n",
    "result\n",
    "\n",
    "\n",
    "\n",
    "\n",
    "\n",
    "\n"
   ]
  },
  {
   "cell_type": "markdown",
   "id": "7a0f4c79",
   "metadata": {
    "id": "7a0f4c79"
   },
   "source": [
    "8. Ask the user for a number, multiply it by 2, and display the result."
   ]
  },
  {
   "cell_type": "code",
   "execution_count": null,
   "id": "206d8834",
   "metadata": {
    "id": "206d8834"
   },
   "outputs": [],
   "source": [
    "# Asking the user for their choice of number.\n",
    "x = 2 * (float(input(\"Pick a number, any number!: \")))\n",
    "# Printing the double of the users' number\n",
    "print(\"Now watch it double before your very eyes!: \" + str(x) )\n",
    "\n",
    "\n",
    "\n",
    "\n",
    "\n",
    "\n"
   ]
  },
  {
   "cell_type": "markdown",
   "id": "ea0dd3a5",
   "metadata": {
    "id": "ea0dd3a5"
   },
   "source": [
    "9. Write a program that converts time from hours to seconds. Ask the user to input the time in hours, and then convert that time into seconds. Remember, 1 hour equals 3600 seconds."
   ]
  },
  {
   "cell_type": "code",
   "execution_count": null,
   "id": "K5F9Y3ZPzMlD",
   "metadata": {
    "id": "K5F9Y3ZPzMlD"
   },
   "outputs": [],
   "source": [
    "# Asking the user how many hours they would like to convert\n",
    "hours = float(input(\"How many hours do you need to convert?: \"))\n",
    "# Converting said hours into seconds\n",
    "seconds = 3600 * hours\n",
    "# Printing the result in a sentence\n",
    "print(str(hours) + \" hours is \" + str(seconds) + \" seconds.\")\n",
    "\n",
    "\n",
    "\n",
    "\n"
   ]
  },
  {
   "cell_type": "markdown",
   "id": "33988976",
   "metadata": {
    "id": "33988976"
   },
   "source": [
    "10. Evaluate the expression `3 * (4 + 5) - 6 / 2` and display the result."
   ]
  },
  {
   "cell_type": "code",
   "execution_count": 31,
   "id": "e346f170",
   "metadata": {
    "id": "e346f170"
   },
   "outputs": [
    {
     "data": {
      "text/plain": [
       "24.0"
      ]
     },
     "execution_count": 31,
     "metadata": {},
     "output_type": "execute_result"
    }
   ],
   "source": [
    "# Evaluating the expression 3 * (4 + 5) - 6 / 2\n",
    "result = 3 * (4 + 5) - 6 / 2\n",
    "# Displaying the result\n",
    "result\n",
    "\n",
    "\n",
    "\n",
    "\n",
    "\n"
   ]
  },
  {
   "cell_type": "markdown",
   "id": "238b253e",
   "metadata": {
    "id": "238b253e"
   },
   "source": [
    "11. Assign the string 'Python' to a variable and print it."
   ]
  },
  {
   "cell_type": "code",
   "execution_count": null,
   "id": "c390538f",
   "metadata": {
    "id": "c390538f"
   },
   "outputs": [],
   "source": [
    "\n",
    "# Assigning the string \"Python\" to the variable a\n",
    "a = \"Python\"\n",
    "\n",
    "print(a)\n",
    "\n",
    "\n",
    "\n",
    "\n"
   ]
  },
  {
   "cell_type": "markdown",
   "id": "7c5a89d6",
   "metadata": {
    "id": "7c5a89d6"
   },
   "source": [
    "12. Calculate the remainder when 22 is divided by 5."
   ]
  },
  {
   "cell_type": "code",
   "execution_count": null,
   "id": "db0b5ac5",
   "metadata": {
    "id": "db0b5ac5"
   },
   "outputs": [],
   "source": [
    "# Calculating the remainder of 22 / 5\n",
    "22 % 5\n",
    "\n",
    "\n",
    "\n",
    "\n",
    "\n",
    "\n"
   ]
  },
  {
   "cell_type": "markdown",
   "id": "6dbc6d95",
   "metadata": {
    "id": "6dbc6d95"
   },
   "source": [
    "\n",
    "13. Ask the user for two numbers, add them together, and display the sum."
   ]
  },
  {
   "cell_type": "code",
   "execution_count": null,
   "id": "8fa878a0",
   "metadata": {
    "id": "8fa878a0"
   },
   "outputs": [],
   "source": [
    "# Asking the user for their first number\n",
    "num_1 = float(input(\"What is your first number?: \"))\n",
    "# Asking the user for their second number\n",
    "num_2 = float(input(\"What is your second number?: \"))\n",
    "# Displaying the sum of the numbers\n",
    "print(\"Together they make!: \" + str(num_1 + num_2))\n",
    "\n",
    "\n",
    "\n",
    "\n"
   ]
  },
  {
   "cell_type": "markdown",
   "id": "Xfr-7PXNAsTJ",
   "metadata": {
    "id": "Xfr-7PXNAsTJ"
   },
   "source": [
    "14. Write a Python code snippet that takes user input and prints the type of the input variable."
   ]
  },
  {
   "cell_type": "code",
   "execution_count": 13,
   "id": "rM_ZHEpoAsdh",
   "metadata": {
    "id": "rM_ZHEpoAsdh"
   },
   "outputs": [
    {
     "ename": "NameError",
     "evalue": "name 'raw' is not defined",
     "output_type": "error",
     "traceback": [
      "\u001b[1;31m---------------------------------------------------------------------------\u001b[0m",
      "\u001b[1;31mNameError\u001b[0m                                 Traceback (most recent call last)",
      "Cell \u001b[1;32mIn[13], line 2\u001b[0m\n\u001b[0;32m      1\u001b[0m \u001b[38;5;66;03m# The answer is probably simple, but I couldn't figure it out.\u001b[39;00m\n\u001b[1;32m----> 2\u001b[0m x \u001b[38;5;241m=\u001b[39m raw\u001b[38;5;241m.\u001b[39minput()\n\u001b[0;32m      3\u001b[0m \u001b[38;5;28mint\u001b[39m(x) \u001b[38;5;241m==\u001b[39m \u001b[38;5;28;01mFalse\u001b[39;00m\n",
      "\u001b[1;31mNameError\u001b[0m: name 'raw' is not defined"
     ]
    }
   ],
   "source": [
    "# The answer is probably simple, and I tried but I couldn't figure it out. \n",
    "# I tried to find a way to make the input be converted into float or int through many different ways but it always gave me the same ValueError.\n",
    "# I attempted to convert it directly using int() or float() and I tried using boolean values such as if type(int(input())) == type(1).\n",
    "# Are we allowed to go to outside sources to learn past what the Professor has covered, such as on youtube?\n",
    "x = input()\n"
   ]
  },
  {
   "cell_type": "markdown",
   "id": "a5d705bf",
   "metadata": {
    "id": "a5d705bf"
   },
   "source": [
    "15. Calculate the product of 8 and 12, then subtract 4 and display the result."
   ]
  },
  {
   "cell_type": "code",
   "execution_count": 30,
   "id": "18b337a3",
   "metadata": {
    "id": "18b337a3"
   },
   "outputs": [
    {
     "data": {
      "text/plain": [
       "92"
      ]
     },
     "execution_count": 30,
     "metadata": {},
     "output_type": "execute_result"
    }
   ],
   "source": [
    "# Calculating the product of 8 and 2\n",
    "result = 8 * 12 - 4\n",
    "# Displaying the result\n",
    "result\n",
    "\n",
    "\n",
    "\n",
    "\n"
   ]
  },
  {
   "cell_type": "markdown",
   "id": "672bab76",
   "metadata": {
    "id": "672bab76"
   },
   "source": [
    "16. Explain the difference between `==` and `=` in Python."
   ]
  },
  {
   "cell_type": "markdown",
   "id": "99b80278",
   "metadata": {
    "id": "fOf-_TJuyqN9"
   },
   "source": [
    "The opperators == and = differ greatly as the == operator is one of comparison which can only gve you a boolean data type, while the = operator is one of assignment which is when a variable is assigned a value or meaning.This can come in the form of string, int, or float data types.\n",
    "\n",
    "\n",
    "\n",
    "\n",
    "\n",
    "\n",
    "\n"
   ]
  },
  {
   "cell_type": "markdown",
   "id": "68b3a3ff",
   "metadata": {
    "id": "68b3a3ff"
   },
   "source": [
    "17. Use Python to find the floor division of 100 by 11."
   ]
  },
  {
   "cell_type": "code",
   "execution_count": 14,
   "id": "ae879bf3",
   "metadata": {
    "id": "ae879bf3"
   },
   "outputs": [
    {
     "data": {
      "text/plain": [
       "9"
      ]
     },
     "execution_count": 14,
     "metadata": {},
     "output_type": "execute_result"
    }
   ],
   "source": [
    "# Calculating the floor division of 100 by 11\n",
    "100 // 11\n",
    "\n",
    "\n",
    "\n",
    "\n",
    "\n",
    "\n",
    "\n"
   ]
  },
  {
   "cell_type": "markdown",
   "id": "ffd04019",
   "metadata": {
    "id": "ffd04019"
   },
   "source": [
    "18. Ask the user for a number, then calculate the square of that number."
   ]
  },
  {
   "cell_type": "code",
   "execution_count": 33,
   "id": "c616706b",
   "metadata": {
    "id": "c616706b"
   },
   "outputs": [
    {
     "name": "stdout",
     "output_type": "stream",
     "text": [
      "Pick a number, any number!: 4.6\n",
      "Now watch it be squared before your very eyes!: 21.159999999999997\n"
     ]
    }
   ],
   "source": [
    "# Asking the user to pick a number of their choice\n",
    "x = (float(input(\"Pick a number, any number!: \"))) ** 2\n",
    "# Calculating and displaing the square of their number\n",
    "print(\"Now watch it be squared before your very eyes!: \" + str(x) )\n",
    "\n",
    "\n",
    "\n",
    "\n",
    "\n",
    "\n",
    "\n"
   ]
  },
  {
   "cell_type": "markdown",
   "id": "b1d61384",
   "metadata": {
    "id": "b1d61384"
   },
   "source": [
    "19. What does the `%` operator do in Python? Provide an example."
   ]
  },
  {
   "cell_type": "markdown",
   "id": "f9b651e6",
   "metadata": {
    "id": "c4d33464"
   },
   "source": [
    "The % operator results in the remainder of the quotient between two numbers. for example 22/5 would give you 4 with a remainder of 2."
   ]
  },
  {
   "cell_type": "code",
   "execution_count": 3,
   "id": "6a2b01db",
   "metadata": {},
   "outputs": [
    {
     "data": {
      "text/plain": [
       "2"
      ]
     },
     "execution_count": 3,
     "metadata": {},
     "output_type": "execute_result"
    }
   ],
   "source": [
    "22 % 5"
   ]
  },
  {
   "cell_type": "markdown",
   "id": "ff3ed06e",
   "metadata": {
    "id": "ff3ed06e"
   },
   "source": [
    "20. Using variables, demonstrate how to calculate and print the area of a rectangle (length * width)."
   ]
  },
  {
   "cell_type": "code",
   "execution_count": 28,
   "id": "692bbc9c",
   "metadata": {
    "id": "692bbc9c"
   },
   "outputs": [
    {
     "name": "stdout",
     "output_type": "stream",
     "text": [
      "Length: 10\n",
      "Height: 3\n",
      "30.0\n"
     ]
    }
   ],
   "source": [
    "# Asking the user for the length and width values of their rectangle\n",
    "l = float(input(\"Length: \"))\n",
    "w = float(input(\"Height: \"))\n",
    "# Using the formula for the area of a rectangle to calculate the result\n",
    "area = l * w\n",
    "# Displaying the result\n",
    "print(str(area))\n",
    "\n",
    "\n"
   ]
  }
 ],
 "metadata": {
  "colab": {
   "provenance": []
  },
  "kernelspec": {
   "display_name": "Python 3 (ipykernel)",
   "language": "python",
   "name": "python3"
  },
  "language_info": {
   "codemirror_mode": {
    "name": "ipython",
    "version": 3
   },
   "file_extension": ".py",
   "mimetype": "text/x-python",
   "name": "python",
   "nbconvert_exporter": "python",
   "pygments_lexer": "ipython3",
   "version": "3.11.5"
  }
 },
 "nbformat": 4,
 "nbformat_minor": 5
}
