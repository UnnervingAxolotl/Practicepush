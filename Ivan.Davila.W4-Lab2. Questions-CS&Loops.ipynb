{
 "cells": [
  {
   "cell_type": "markdown",
   "id": "0GUzvntsXqkV",
   "metadata": {
    "id": "0GUzvntsXqkV"
   },
   "source": [
    "# **Week 4 Lab2. Conditional Statements and Loops**"
   ]
  },
  {
   "cell_type": "markdown",
   "id": "ebe66e5a",
   "metadata": {
    "id": "ebe66e5a"
   },
   "source": [
    "**Quiz 1.** Write a Python program to check if a number is positive, negative or zero."
   ]
  },
  {
   "cell_type": "code",
   "execution_count": 5,
   "id": "cad62f88",
   "metadata": {
    "executionInfo": {
     "elapsed": 3,
     "status": "ok",
     "timestamp": 1707083146180,
     "user": {
      "displayName": "Masoud Rostami",
      "userId": "15391601920485146188"
     },
     "user_tz": 360
    },
    "id": "cad62f88"
   },
   "outputs": [
    {
     "name": "stdout",
     "output_type": "stream",
     "text": [
      "What if your number?: 0\n",
      "This number is Zero\n"
     ]
    }
   ],
   "source": [
    "num = float(input(\"What is your number?: \"))\n",
    "\n",
    "if num > 0:\n",
    "    print(\"This number is Positive.\")\n",
    "if num < 0:\n",
    "    print(\"This number is Negative.\")\n",
    "if num == 0:\n",
    "    print(\"This number is Zero\")\n",
    "    \n"
   ]
  },
  {
   "cell_type": "markdown",
   "id": "559ce08f",
   "metadata": {
    "id": "559ce08f"
   },
   "source": [
    "**Quiz 2.** Write a Python program that asks the user to input a number and then prints whether the number is even or odd."
   ]
  },
  {
   "cell_type": "code",
   "execution_count": 1,
   "id": "22d37e68",
   "metadata": {
    "executionInfo": {
     "elapsed": 127,
     "status": "ok",
     "timestamp": 1707083152669,
     "user": {
      "displayName": "Masoud Rostami",
      "userId": "15391601920485146188"
     },
     "user_tz": 360
    },
    "id": "22d37e68"
   },
   "outputs": [
    {
     "name": "stdout",
     "output_type": "stream",
     "text": [
      "What if your number?: -4\n",
      "This number is even.\n"
     ]
    }
   ],
   "source": [
    "num = float(input(\"What is your number?: \"))\n",
    "\n",
    "if (num % 2) == 0:\n",
    "    print(\"This number is even.\")\n",
    "if (num % 2) != 0:\n",
    "    print(\"This number is odd.\")\n",
    "\n",
    "\n",
    "\n",
    "\n",
    "\n"
   ]
  },
  {
   "cell_type": "markdown",
   "id": "2146da1b",
   "metadata": {
    "id": "2146da1b"
   },
   "source": [
    "**Quiz 3.** Write a Python program to print the first 10 numbers of the Fibonacci sequence."
   ]
  },
  {
   "cell_type": "code",
   "execution_count": 17,
   "id": "a0c9babe",
   "metadata": {
    "executionInfo": {
     "elapsed": 88,
     "status": "ok",
     "timestamp": 1707083160352,
     "user": {
      "displayName": "Masoud Rostami",
      "userId": "15391601920485146188"
     },
     "user_tz": 360
    },
    "id": "a0c9babe"
   },
   "outputs": [
    {
     "name": "stdout",
     "output_type": "stream",
     "text": [
      "[0, 1, 1, 2, 3, 5, 8, 13, 21, 34, 55]\n"
     ]
    }
   ],
   "source": [
    "num_1 = 0\n",
    "num_2 = 1\n",
    "count = 0\n",
    "l = []\n",
    "while count <= 10:   \n",
    "    l.append(num_1)\n",
    "    new_num = num_2 + num_1\n",
    "    num_1 = num_2\n",
    "    num_2 = new_num\n",
    "    count = count+1\n",
    "print(l)\n",
    "\n",
    "\n",
    "\n"
   ]
  },
  {
   "cell_type": "markdown",
   "id": "6e8bbee5",
   "metadata": {
    "id": "6e8bbee5"
   },
   "source": [
    "**Quiz 4.** Write a Python program to find the largest number among three given numbers entered by the user."
   ]
  },
  {
   "cell_type": "code",
   "execution_count": 19,
   "id": "401bac31",
   "metadata": {
    "executionInfo": {
     "elapsed": 114,
     "status": "ok",
     "timestamp": 1707083165037,
     "user": {
      "displayName": "Masoud Rostami",
      "userId": "15391601920485146188"
     },
     "user_tz": 360
    },
    "id": "401bac31"
   },
   "outputs": [
    {
     "name": "stdout",
     "output_type": "stream",
     "text": [
      "What is your first number?: 1\n",
      "What is your second number?: 2\n",
      "What is your third number?: 4\n",
      "4.0 is the largest of the three numbers.\n"
     ]
    }
   ],
   "source": [
    "num_1 = float(input(\"What is your first number?: \"))\n",
    "num_2 = float(input(\"What is your second number?: \"))\n",
    "num_3 = float(input(\"What is your third number?: \"))\n",
    "if num_1 > (num_2 and num_3):\n",
    "    print(str(num1) + \" is the largest of the three numbers.\")\n",
    "if num_2 > (num_1 and num_3):\n",
    "    print(str(num2) + \" is the largest of the three numbers.\")\n",
    "if num_3 > (num_2 and num_1):\n",
    "    print(str(num_3) + \" is the largest of the three numbers.\")\n",
    "\n",
    "\n",
    "\n",
    "\n",
    "\n"
   ]
  },
  {
   "cell_type": "markdown",
   "id": "3f5fef81",
   "metadata": {
    "id": "3f5fef81"
   },
   "source": [
    "**Quiz 5.** Write a Python program to check whether a year is a leap year or not."
   ]
  },
  {
   "cell_type": "code",
   "execution_count": 4,
   "id": "3a0a4291",
   "metadata": {
    "executionInfo": {
     "elapsed": 88,
     "status": "ok",
     "timestamp": 1707083169670,
     "user": {
      "displayName": "Masoud Rostami",
      "userId": "15391601920485146188"
     },
     "user_tz": 360
    },
    "id": "3a0a4291"
   },
   "outputs": [
    {
     "name": "stdout",
     "output_type": "stream",
     "text": [
      "What is the year?: 2004\n",
      "2004 is a leap year.\n"
     ]
    }
   ],
   "source": [
    "year = float(input(\"What is the year?: \"))\n",
    "\n",
    "x = year % 4\n",
    "\n",
    "\n",
    "if x == 0:\n",
    "    y = year % 100\n",
    "    if y == 0:\n",
    "        z = year % 400\n",
    "        if z == 0:\n",
    "            print(str(int(year)) + \" is a leap year.\")\n",
    "        else:\n",
    "            print(str(int(year)) + \" is not a leap year.\")\n",
    "    else:\n",
    "        print(str(int(year)) + \" is a leap year.\")\n",
    "else:\n",
    "    print(str(int(year)) + \" is not a leap year.\")\n",
    "\n",
    "\n",
    "\n",
    "\n",
    "\n",
    "\n",
    "\n"
   ]
  },
  {
   "cell_type": "markdown",
   "id": "sinzQ75aYQBF",
   "metadata": {
    "id": "sinzQ75aYQBF"
   },
   "source": [
    "**Quiz 6.** Write a Python program to check if a number is positive, negative or zero."
   ]
  },
  {
   "cell_type": "code",
   "execution_count": 1,
   "id": "NjBodn0mYQHb",
   "metadata": {
    "executionInfo": {
     "elapsed": 93,
     "status": "ok",
     "timestamp": 1707083174044,
     "user": {
      "displayName": "Masoud Rostami",
      "userId": "15391601920485146188"
     },
     "user_tz": 360
    },
    "id": "NjBodn0mYQHb"
   },
   "outputs": [
    {
     "name": "stdout",
     "output_type": "stream",
     "text": [
      "What is your number?: 6\n",
      "This number is Positive.\n"
     ]
    }
   ],
   "source": [
    "num = float(input(\"What is your number?: \"))\n",
    "\n",
    "if num > 0:\n",
    "    print(\"This number is Positive.\")\n",
    "if num < 0:\n",
    "    print(\"This number is Negative.\")\n",
    "if num == 0:\n",
    "    print(\"This number is Zero\")\n",
    "    \n",
    "\n",
    "\n",
    "\n",
    "\n",
    "\n",
    "\n"
   ]
  },
  {
   "cell_type": "markdown",
   "id": "AwOSDCPsYQPL",
   "metadata": {
    "id": "AwOSDCPsYQPL"
   },
   "source": [
    "**Quiz 7.** Create a Python script that prints the numbers from 1 to 100, but for multiples of three print “Fizz” instead of the number and for the multiples of five print “Buzz”. For numbers which are multiples of both three and five print “FizzBuzz”."
   ]
  },
  {
   "cell_type": "code",
   "execution_count": 14,
   "id": "Zbf2t3oGYQaU",
   "metadata": {
    "executionInfo": {
     "elapsed": 92,
     "status": "ok",
     "timestamp": 1707083178672,
     "user": {
      "displayName": "Masoud Rostami",
      "userId": "15391601920485146188"
     },
     "user_tz": 360
    },
    "id": "Zbf2t3oGYQaU"
   },
   "outputs": [
    {
     "name": "stdout",
     "output_type": "stream",
     "text": [
      "1\n",
      "2\n",
      "Fizz\n",
      "4\n",
      "Buzz\n",
      "Fizz\n",
      "7\n",
      "8\n",
      "Fizz\n",
      "Buzz\n",
      "11\n",
      "Fizz\n",
      "13\n",
      "14\n",
      "FizzBuzz\n",
      "16\n",
      "17\n",
      "Fizz\n",
      "19\n",
      "Buzz\n",
      "Fizz\n",
      "22\n",
      "23\n",
      "Fizz\n",
      "Buzz\n",
      "26\n",
      "Fizz\n",
      "28\n",
      "29\n",
      "FizzBuzz\n",
      "31\n",
      "32\n",
      "Fizz\n",
      "34\n",
      "Buzz\n",
      "Fizz\n",
      "37\n",
      "38\n",
      "Fizz\n",
      "Buzz\n",
      "41\n",
      "Fizz\n",
      "43\n",
      "44\n",
      "FizzBuzz\n",
      "46\n",
      "47\n",
      "Fizz\n",
      "49\n",
      "Buzz\n",
      "Fizz\n",
      "52\n",
      "53\n",
      "Fizz\n",
      "Buzz\n",
      "56\n",
      "Fizz\n",
      "58\n",
      "59\n",
      "FizzBuzz\n",
      "61\n",
      "62\n",
      "Fizz\n",
      "64\n",
      "Buzz\n",
      "Fizz\n",
      "67\n",
      "68\n",
      "Fizz\n",
      "Buzz\n",
      "71\n",
      "Fizz\n",
      "73\n",
      "74\n",
      "FizzBuzz\n",
      "76\n",
      "77\n",
      "Fizz\n",
      "79\n",
      "Buzz\n",
      "Fizz\n",
      "82\n",
      "83\n",
      "Fizz\n",
      "Buzz\n",
      "86\n",
      "Fizz\n",
      "88\n",
      "89\n",
      "FizzBuzz\n",
      "91\n",
      "92\n",
      "Fizz\n",
      "94\n",
      "Buzz\n",
      "Fizz\n",
      "97\n",
      "98\n",
      "Fizz\n",
      "Buzz\n"
     ]
    }
   ],
   "source": [
    "for x in range(1, 101):\n",
    "    y = x % 3\n",
    "    z = x % 5\n",
    "    if (y and z) != 0:\n",
    "        print(x)\n",
    "    else:\n",
    "        if y ==0 and z == 0:\n",
    "            print(\"FizzBuzz\")\n",
    "        else:\n",
    "            if y == 0 and z !=0:\n",
    "                print(\"Fizz\")\n",
    "            if z == 0 and y != 0:\n",
    "                print(\"Buzz\")\n",
    "        \n",
    "\n",
    "\n",
    "\n",
    "\n",
    "\n",
    "\n",
    "\n",
    "\n",
    "\n",
    "\n"
   ]
  },
  {
   "cell_type": "markdown",
   "id": "Ag-Q__ISYaRu",
   "metadata": {
    "id": "Ag-Q__ISYaRu"
   },
   "source": [
    "**Quiz 8.** Write a Python program to check if a number is odd or even."
   ]
  },
  {
   "cell_type": "code",
   "execution_count": null,
   "id": "ZJY39pxJYaY9",
   "metadata": {
    "executionInfo": {
     "elapsed": 84,
     "status": "ok",
     "timestamp": 1707083184618,
     "user": {
      "displayName": "Masoud Rostami",
      "userId": "15391601920485146188"
     },
     "user_tz": 360
    },
    "id": "ZJY39pxJYaY9"
   },
   "outputs": [],
   "source": [
    "num = float(input(\"What is your number?: \"))\n",
    "\n",
    "if (num % 2) == 0:\n",
    "    print(\"This number is even.\")\n",
    "if (num % 2) != 0:\n",
    "    print(\"This number is odd.\")\n",
    "\n",
    "\n",
    "\n",
    "\n",
    "\n",
    "\n",
    "\n",
    "\n",
    "\n",
    "\n",
    "\n"
   ]
  },
  {
   "cell_type": "markdown",
   "id": "mNAwIKRoYaf-",
   "metadata": {
    "id": "mNAwIKRoYaf-"
   },
   "source": [
    "**Quiz 9.** Write a Python script to calculate the square root of a number, but if the number is negative, print an error message."
   ]
  },
  {
   "cell_type": "code",
   "execution_count": 27,
   "id": "t2DP-AwtYapg",
   "metadata": {
    "executionInfo": {
     "elapsed": 119,
     "status": "ok",
     "timestamp": 1707083190170,
     "user": {
      "displayName": "Masoud Rostami",
      "userId": "15391601920485146188"
     },
     "user_tz": 360
    },
    "id": "t2DP-AwtYapg"
   },
   "outputs": [
    {
     "name": "stdout",
     "output_type": "stream",
     "text": [
      "What is your number?: 2.54\n",
      "The square root of your number is 1.5937377450509227.\n"
     ]
    }
   ],
   "source": [
    "import math\n",
    "\n",
    "x = float(input(\"What is your number?: \"))\n",
    "if x < 0:\n",
    "    print(\"ERROR: User cannot enter a negative number.\")\n",
    "else:\n",
    "    print(\"The square root of your number is \" + str(math.sqrt(x)) + \".\")\n",
    "\n",
    "\n",
    "\n",
    "\n",
    "\n",
    "\n",
    "\n"
   ]
  }
 ],
 "metadata": {
  "colab": {
   "provenance": []
  },
  "kernelspec": {
   "display_name": "Python 3 (ipykernel)",
   "language": "python",
   "name": "python3"
  },
  "language_info": {
   "codemirror_mode": {
    "name": "ipython",
    "version": 3
   },
   "file_extension": ".py",
   "mimetype": "text/x-python",
   "name": "python",
   "nbconvert_exporter": "python",
   "pygments_lexer": "ipython3",
   "version": "3.11.5"
  }
 },
 "nbformat": 4,
 "nbformat_minor": 5
}
