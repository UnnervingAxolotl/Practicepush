{
 "cells": [
  {
   "cell_type": "markdown",
   "metadata": {
    "id": "dJRqccH38yqj"
   },
   "source": [
    "# **Week 3. Lab 1.Basic Python Questions**"
   ]
  },
  {
   "cell_type": "markdown",
   "metadata": {
    "id": "CJmjQNrk860w"
   },
   "source": [
    "**Question 1:** What are the two types of numeric data types in Python? give me example of each example."
   ]
  },
  {
   "cell_type": "markdown",
   "metadata": {
    "id": "I4NYw3qe6lnp"
   },
   "source": [
    "The two basic numeric data types in python are float values and integer(int) values. Integer values, as the name suggests are composed of only integers. While floats are comprised of any real number. An example for a float would be 1.34, while an example of an int would be -3.\n",
    "\n",
    "\n",
    "\n",
    "\n",
    "\n",
    "\n",
    "\n",
    "\n"
   ]
  },
  {
   "cell_type": "markdown",
   "metadata": {
    "id": "FEzyJah487x8"
   },
   "source": [
    "**Question 2:** How do you convert the string \"123\" into an integer?"
   ]
  },
  {
   "cell_type": "code",
   "execution_count": 1,
   "metadata": {
    "id": "sbS1DmCi87_Z"
   },
   "outputs": [
    {
     "data": {
      "text/plain": [
       "int"
      ]
     },
     "execution_count": 1,
     "metadata": {},
     "output_type": "execute_result"
    }
   ],
   "source": [
    "int(\"123\")\n",
    "\n",
    "\n",
    "\n",
    "\n",
    "\n",
    "\n",
    "\n",
    "\n"
   ]
  },
  {
   "cell_type": "markdown",
   "metadata": {
    "id": "hn-i5AYP88G6"
   },
   "source": [
    "**Question 3:** Write a Python expression that adds two integers and then multiplies the result by a float."
   ]
  },
  {
   "cell_type": "code",
   "execution_count": 2,
   "metadata": {
    "id": "emm9CCuf88T6"
   },
   "outputs": [
    {
     "data": {
      "text/plain": [
       "1.5"
      ]
     },
     "execution_count": 2,
     "metadata": {},
     "output_type": "execute_result"
    }
   ],
   "source": [
    "(1 + 2) * 0.5\n",
    "\n",
    "\n",
    "\n",
    "\n",
    "\n",
    "\n",
    "\n"
   ]
  },
  {
   "cell_type": "markdown",
   "metadata": {
    "id": "DAVlKXha88bK"
   },
   "source": [
    "**Question 4:** What is the output of the following code: print(8 / 4)?"
   ]
  },
  {
   "cell_type": "code",
   "execution_count": 3,
   "metadata": {
    "id": "PJgUqajS88i-"
   },
   "outputs": [
    {
     "name": "stdout",
     "output_type": "stream",
     "text": [
      "2.0\n"
     ]
    }
   ],
   "source": [
    "print(8/4)\n",
    "\n",
    "\n",
    "\n",
    "\n",
    "\n",
    "\n",
    "\n"
   ]
  },
  {
   "cell_type": "markdown",
   "metadata": {
    "id": "9vaweyAe889q"
   },
   "source": [
    "**Question 5:**Given the variables x = 5 and y = 2, write a Python expression that uses PEMDAS rules to calculate (x^2 + y) / (y - x)."
   ]
  },
  {
   "cell_type": "code",
   "execution_count": 4,
   "metadata": {
    "id": "v-rSgvou89EL"
   },
   "outputs": [
    {
     "data": {
      "text/plain": [
       "-9.0"
      ]
     },
     "execution_count": 4,
     "metadata": {},
     "output_type": "execute_result"
    }
   ],
   "source": [
    "\n",
    "x = 5\n",
    "y = 2\n",
    "((x**2) + y) / (y - x)\n",
    "\n",
    "\n",
    "\n"
   ]
  },
  {
   "cell_type": "markdown",
   "metadata": {
    "id": "xiQk2vWi89Ma"
   },
   "source": [
    "**Question 6:**  How do you create a string variable containing the text \"Hello, Python!\"?"
   ]
  },
  {
   "cell_type": "code",
   "execution_count": 6,
   "metadata": {
    "id": "Xg8pKYVp89TC"
   },
   "outputs": [
    {
     "name": "stdout",
     "output_type": "stream",
     "text": [
      "Hello, Python!\n"
     ]
    }
   ],
   "source": [
    "x = \"Hello, Python!\"\n",
    "print(x)\n",
    "\n",
    "\n",
    "\n",
    "\n"
   ]
  },
  {
   "cell_type": "markdown",
   "metadata": {
    "id": "8hueKW7x89oK"
   },
   "source": [
    "**Question 7:**Write a Python line of code that asks the user for their name and then prints a greeting including the name."
   ]
  },
  {
   "cell_type": "code",
   "execution_count": 7,
   "metadata": {
    "id": "YdoAzlo589vK"
   },
   "outputs": [
    {
     "name": "stdout",
     "output_type": "stream",
     "text": [
      "What is your name?: john\n",
      "Hello john, it's very nice to meet you.\n"
     ]
    }
   ],
   "source": [
    "user_name = input(\"What is your name?: \")\n",
    "\n",
    "print(\"Hello \" + user_name + \", it's very nice to meet you.\")\n",
    "\n",
    "\n",
    "\n",
    "\n",
    "\n",
    "\n"
   ]
  },
  {
   "cell_type": "markdown",
   "metadata": {
    "id": "qFb6oDRD892C"
   },
   "source": [
    "**Question 8:**What will be the output of the following code snippet: print(10 % 3)?"
   ]
  },
  {
   "cell_type": "code",
   "execution_count": 8,
   "metadata": {
    "id": "DlGqP8ZO898x"
   },
   "outputs": [
    {
     "name": "stdout",
     "output_type": "stream",
     "text": [
      "1\n"
     ]
    }
   ],
   "source": [
    "print(10 % 3)\n",
    "\n",
    "\n",
    "\n",
    "\n",
    "\n",
    "\n",
    "\n"
   ]
  },
  {
   "cell_type": "markdown",
   "metadata": {
    "id": "XSZV9r6K8-Ep"
   },
   "source": [
    "**Question 9:** Create a float number, then convert a float to an integer in Python?"
   ]
  },
  {
   "cell_type": "code",
   "execution_count": 9,
   "metadata": {
    "id": "zfaNoPmI8-LR"
   },
   "outputs": [
    {
     "name": "stdout",
     "output_type": "stream",
     "text": [
      "1\n"
     ]
    }
   ],
   "source": [
    "x = 1.5\n",
    "print(int(x))\n",
    "\n",
    "\n",
    "\n",
    "\n",
    "\n",
    "\n",
    "\n",
    "\n",
    "\n",
    "\n",
    "\n",
    "\n"
   ]
  },
  {
   "cell_type": "markdown",
   "metadata": {
    "id": "VFBBGXLW8-U6"
   },
   "source": [
    "**Question 10:**Write a Python code snippet that calculates the average of three numbers: 4, 5, and 8."
   ]
  },
  {
   "cell_type": "code",
   "execution_count": 10,
   "metadata": {
    "id": "2k2qavo18-cJ"
   },
   "outputs": [
    {
     "name": "stdout",
     "output_type": "stream",
     "text": [
      "5.666666666666667\n"
     ]
    }
   ],
   "source": [
    "\n",
    "x = (4 + 5 + 8) / 3\n",
    "\n",
    "print(x)\n",
    "\n",
    "\n",
    "\n",
    "\n",
    "\n"
   ]
  },
  {
   "cell_type": "markdown",
   "metadata": {
    "id": "y6LO7GBU9rtD"
   },
   "source": [
    "**Question 11:** Explain the difference between the output of print(9 // 2) and print(9 / 2)."
   ]
  },
  {
   "cell_type": "markdown",
   "metadata": {
    "id": "TvU7iqem9r46"
   },
   "source": [
    "The difference is that // is used for integer division while / is used for float division. Therefore // will only return integers, even if the dividend and divisor used would normally return a float value. And / will only return float values, even if the divident and divisor would normally return an integer. \n",
    "\n",
    "\n",
    "\n",
    "\n",
    "\n",
    "\n",
    "\n",
    "\n",
    "\n",
    "\n"
   ]
  },
  {
   "cell_type": "markdown",
   "metadata": {
    "id": "XJ49xH609r_y"
   },
   "source": [
    "**Question 12:** Write a Python script that takes two user inputs: first_name and last_name, then prints them in reverse order with a space between them."
   ]
  },
  {
   "cell_type": "code",
   "execution_count": 11,
   "metadata": {
    "id": "YK-efpi99sKD"
   },
   "outputs": [
    {
     "name": "stdout",
     "output_type": "stream",
     "text": [
      "What is your first name?: john\n",
      "And what is your last name?: smith\n",
      "smith john\n"
     ]
    }
   ],
   "source": [
    "first_name = input(\"What is your first name?: \")\n",
    "last_name = input(\"And what is your last name?: \")\n",
    "print(last_name + \" \" + first_name)\n",
    "\n",
    "\n",
    "\n",
    "\n",
    "\n",
    "\n",
    "\n",
    "\n"
   ]
  },
  {
   "cell_type": "markdown",
   "metadata": {
    "id": "sYdMMq039sQb"
   },
   "source": [
    "**Question 13:** What is the result of the following expression: (100 - 5 ** 3) / 5?"
   ]
  },
  {
   "cell_type": "code",
   "execution_count": 12,
   "metadata": {
    "id": "RAfbER1y9sXC"
   },
   "outputs": [
    {
     "data": {
      "text/plain": [
       "-5.0"
      ]
     },
     "execution_count": 12,
     "metadata": {},
     "output_type": "execute_result"
    }
   ],
   "source": [
    "(100 - 5 ** 3) / 5\n",
    "\n",
    "\n",
    "\n"
   ]
  },
  {
   "cell_type": "markdown",
   "metadata": {
    "id": "A3SH1FzK-D-z"
   },
   "source": [
    "**Question 14:**Calculate the result of the following expression and explain the order of operations: (8 + 2 * 5) / (1 + 3 * 2 - 4)."
   ]
  },
  {
   "cell_type": "code",
   "execution_count": 14,
   "metadata": {
    "id": "h-njko9V-EF6"
   },
   "outputs": [
    {
     "data": {
      "text/plain": [
       "6.0"
      ]
     },
     "execution_count": 14,
     "metadata": {},
     "output_type": "execute_result"
    }
   ],
   "source": [
    "(8 + 2 * 5) / (1 + 3 * 2 - 4)\n",
    "#First we focus on what is inside each paranthesis. (8 + 2 * 5) and (1 + 3 * 2 - 4)\n",
    "#Then in each individual paranthesis we apply the order of operations again.\n",
    "#Since there are no other paranthesis within either paranthesis we look for exponents next.\n",
    "#Both of these two parathesis don't have values with exponents so we can skip this step.\n",
    "#What follows is multiplication, and since we have values being multiplied in both paranthesis we go ahead and calculate them.\n",
    "#Making it (8 + 10) and (1 + 6 - 4)\n",
    "#Since neither paranthesis have any values being divided within them we can skip this step.\n",
    "#Addition is the next step within each paranthesis, making it (18) and (7 - 4)\n",
    "#Subtraction follows within each paranthesis, makimg it (18) and (3)\n",
    "#Now that there are no more operators within either parantheis we can step back out to the larger expression.\n",
    "#Making it (18)/(3)\n",
    "#Since the only operator is division we can go ahead and calculate the result, which is 6\n"
   ]
  },
  {
   "cell_type": "markdown",
   "metadata": {
    "id": "74AE30Cp-EME"
   },
   "source": [
    "**Question 15:**String and Arithmetic Operations: Given x = \"100\" and y = \"200\", convert them to integers, add them, then convert the result back to a string."
   ]
  },
  {
   "cell_type": "code",
   "execution_count": 18,
   "metadata": {
    "id": "EWNGnrjE-EVs"
   },
   "outputs": [
    {
     "name": "stdout",
     "output_type": "stream",
     "text": [
      "300\n"
     ]
    }
   ],
   "source": [
    "x = \"100\"\n",
    "y = \"200\"\n",
    "num_x = int(x)\n",
    "num_y = int(y)\n",
    "num_sum = num_x + num_y\n",
    "num_wrd = str(num_sum)\n",
    "print(num_wrd)\n"
   ]
  },
  {
   "cell_type": "markdown",
   "metadata": {
    "id": "s1f4PYsR-Eby"
   },
   "source": [
    "**Question 16:** User Input Conversion: Write a Python script that asks for two numbers from the user, converts them to integers, multiplies them, and prints the result. Comparing Strings and Integers: What will be the result of comparing"
   ]
  },
  {
   "cell_type": "code",
   "execution_count": 19,
   "metadata": {
    "id": "C3rmW5Lr-Eiz"
   },
   "outputs": [
    {
     "name": "stdout",
     "output_type": "stream",
     "text": [
      "What is your first number?: 2\n",
      "What is your second number?: 3\n",
      "6\n"
     ]
    }
   ],
   "source": [
    "x = input(\"What is your first number?: \")\n",
    "y = input(\"What is your second number?: \")\n",
    "num_x = int(x)\n",
    "num_y = int(y)\n",
    "num_prod = num_x * num_y\n",
    "print(num_prod)\n"
   ]
  },
  {
   "cell_type": "markdown",
   "metadata": {
    "id": "c69crKjA-XHr"
   },
   "source": [
    "**Question 17:** Given a = 5.7 and b = \"3\", convert b to an integer, add a and b, and round the result to the nearest integer."
   ]
  },
  {
   "cell_type": "code",
   "execution_count": 20,
   "metadata": {
    "id": "hKA7-jqF-XWL"
   },
   "outputs": [
    {
     "name": "stdout",
     "output_type": "stream",
     "text": [
      "9\n"
     ]
    }
   ],
   "source": [
    "a = 5.7\n",
    "b = \"3\"\n",
    "num_b = int(b)\n",
    "c = num_b + a\n",
    "d = round(c)\n",
    "print(d)"
   ]
  },
  {
   "cell_type": "markdown",
   "metadata": {
    "id": "4kvWui6Q-3MC"
   },
   "source": [
    "\n",
    "**Question 18:** Write a Python program that requests the user to input a distance in kilometers and then converts it to miles.\""
   ]
  },
  {
   "cell_type": "code",
   "execution_count": 22,
   "metadata": {
    "id": "1zQ_sHnB-3T0"
   },
   "outputs": [
    {
     "name": "stdout",
     "output_type": "stream",
     "text": [
      "What is the distance in kilometers?: 1.61\n",
      "1.61km is equivalent to 1.0004076194420002 mi.\n"
     ]
    }
   ],
   "source": [
    "k = input(\"What is the distance in kilometers?: \")\n",
    "l = float(k) * (3106855961/5000000000)\n",
    "print(k + \" km is equivalent to \" + str(l) + \" mi.\")\n",
    "\n",
    "\n",
    "\n",
    "\n",
    "\n",
    "\n",
    "\n",
    "\n",
    "\n"
   ]
  },
  {
   "cell_type": "markdown",
   "metadata": {
    "id": "DrO1-dE1-3qd"
   },
   "source": [
    "**Question 19:** Develop a Python script that prompts the user to provide a speed in kilometers per hour and then converts it to meters per second"
   ]
  },
  {
   "cell_type": "code",
   "execution_count": 25,
   "metadata": {
    "id": "u9_EKI7x-3xi"
   },
   "outputs": [
    {
     "name": "stdout",
     "output_type": "stream",
     "text": [
      "What is the speed in kilometers per hour?: 20\n",
      "20 km/hr is equivalent to 5.555555555555555 m/sec\n"
     ]
    }
   ],
   "source": [
    "k = input(\"What is the speed in kilometers per hour?: \")\n",
    "l = float(k) * (1000)\n",
    "m = l / 3600\n",
    "print(k + \" km/hr is equivalent to \" + str(m) + \" m/sec\")\n",
    "\n",
    "\n",
    "\n",
    "\n",
    "\n",
    "\n",
    "\n",
    "\n",
    "\n",
    "\n",
    "\n",
    "\n"
   ]
  },
  {
   "cell_type": "markdown",
   "metadata": {
    "id": "arQOTt7OA05j"
   },
   "source": [
    "**Question 20:**Create a Python application that asks the user to enter an amount in pounds and then converts it to kilograms."
   ]
  },
  {
   "cell_type": "code",
   "execution_count": 27,
   "metadata": {
    "id": "BocDrMq6A1BT"
   },
   "outputs": [
    {
     "name": "stdout",
     "output_type": "stream",
     "text": [
      "What is the weight in pounds?: 1\n",
      "1 lb is equivalent to 0.45359237 kg\n"
     ]
    }
   ],
   "source": [
    "k = input(\"What is the weight in pounds?: \")\n",
    "l = float(k) * (45359237 / 100000000)\n",
    "print(k + \" lb is equivalent to \" + str(l) + \" kg\")\n",
    "\n",
    "\n",
    "\n",
    "\n",
    "\n",
    "\n",
    "\n",
    "\n",
    "\n",
    "\n"
   ]
  },
  {
   "cell_type": "code",
   "execution_count": null,
   "metadata": {
    "id": "CVPrP-z-pD7q"
   },
   "outputs": [],
   "source": []
  }
 ],
 "metadata": {
  "colab": {
   "provenance": []
  },
  "kernelspec": {
   "display_name": "Python 3 (ipykernel)",
   "language": "python",
   "name": "python3"
  },
  "language_info": {
   "codemirror_mode": {
    "name": "ipython",
    "version": 3
   },
   "file_extension": ".py",
   "mimetype": "text/x-python",
   "name": "python",
   "nbconvert_exporter": "python",
   "pygments_lexer": "ipython3",
   "version": "3.11.5"
  }
 },
 "nbformat": 4,
 "nbformat_minor": 1
}
