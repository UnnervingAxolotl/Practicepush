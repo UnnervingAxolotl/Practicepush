{
 "cells": [
  {
   "cell_type": "markdown",
   "id": "KMpff5IIShYo",
   "metadata": {
    "id": "KMpff5IIShYo"
   },
   "source": [
    "# **Week 4.Homework 2. Conditional Ststaments & Loops**"
   ]
  },
  {
   "cell_type": "markdown",
   "id": "84pgwvwFPbc9",
   "metadata": {
    "id": "84pgwvwFPbc9"
   },
   "source": [
    "**Question 1:** Write a program to check if a given number is positive."
   ]
  },
  {
   "cell_type": "code",
   "execution_count": null,
   "id": "8gVQ6F13Pbi5",
   "metadata": {
    "executionInfo": {
     "elapsed": 12,
     "status": "ok",
     "timestamp": 1707086710340,
     "user": {
      "displayName": "Masoud Rostami",
      "userId": "15391601920485146188"
     },
     "user_tz": 360
    },
    "id": "8gVQ6F13Pbi5"
   },
   "outputs": [],
   "source": [
    "num = float(input(\"What is your number?: \"))\n",
    "\n",
    "if num > 0:\n",
    "    print(\"This number is Positive.\")\n",
    "if num < 0:\n",
    "    print(\"This number is not Positive.\")\n",
    "if num == 0:\n",
    "    print(\"This number is not Positive\")\n",
    "\n",
    "\n",
    "\n",
    "\n",
    "\n"
   ]
  },
  {
   "cell_type": "markdown",
   "id": "KEOOVaQ1RomG",
   "metadata": {
    "id": "KEOOVaQ1RomG"
   },
   "source": [
    "\n",
    "\n",
    "---\n",
    "\n",
    "\n",
    "\n",
    "---\n",
    "\n",
    "\n",
    "\n",
    "---\n",
    "\n"
   ]
  },
  {
   "cell_type": "markdown",
   "id": "nAvOPEKpPsU-",
   "metadata": {
    "id": "nAvOPEKpPsU-"
   },
   "source": [
    "**Question 2:** Write a program to check if a given number is zero."
   ]
  },
  {
   "cell_type": "code",
   "execution_count": null,
   "id": "rTnH0KefPsfk",
   "metadata": {
    "executionInfo": {
     "elapsed": 156,
     "status": "ok",
     "timestamp": 1707086713854,
     "user": {
      "displayName": "Masoud Rostami",
      "userId": "15391601920485146188"
     },
     "user_tz": 360
    },
    "id": "rTnH0KefPsfk"
   },
   "outputs": [],
   "source": [
    "num = float(input(\"What is your number?: \"))\n",
    "\n",
    "if num > 0:\n",
    "    print(\"This number is not Zero.\")\n",
    "if num < 0:\n",
    "    print(\"This number is not Zero.\")\n",
    "if num == 0:\n",
    "    print(\"This number is Zero\")\n",
    "\n",
    "\n",
    "\n",
    "\n",
    "\n",
    "\n"
   ]
  },
  {
   "cell_type": "markdown",
   "id": "_Aen2ed1O3MM",
   "metadata": {
    "id": "_Aen2ed1O3MM"
   },
   "source": [
    "**Question 3:** Write a program to check if a number is even or odd."
   ]
  },
  {
   "cell_type": "code",
   "execution_count": null,
   "id": "fwmbBwgRO3Tp",
   "metadata": {
    "executionInfo": {
     "elapsed": 184,
     "status": "ok",
     "timestamp": 1707086718533,
     "user": {
      "displayName": "Masoud Rostami",
      "userId": "15391601920485146188"
     },
     "user_tz": 360
    },
    "id": "fwmbBwgRO3Tp"
   },
   "outputs": [],
   "source": [
    "num = float(input(\"What is your number?: \"))\n",
    "\n",
    "if (num % 2) == 0:\n",
    "    print(\"This number is even.\")\n",
    "if (num % 2) != 0:\n",
    "    print(\"This number is odd.\")\n",
    "\n",
    "\n",
    "\n",
    "\n",
    "\n",
    "\n",
    "\n"
   ]
  },
  {
   "cell_type": "markdown",
   "id": "vKjni5jVP4BO",
   "metadata": {
    "id": "vKjni5jVP4BO"
   },
   "source": [
    "**Question 4:** Write a program to categorize a person's age: Child (< 13), Teen (13-19), Adult (>= 20)."
   ]
  },
  {
   "cell_type": "code",
   "execution_count": null,
   "id": "IQkgIenTP4KV",
   "metadata": {
    "executionInfo": {
     "elapsed": 207,
     "status": "ok",
     "timestamp": 1707086722367,
     "user": {
      "displayName": "Masoud Rostami",
      "userId": "15391601920485146188"
     },
     "user_tz": 360
    },
    "id": "IQkgIenTP4KV"
   },
   "outputs": [],
   "source": [
    "num = float(input(\"What is your age?: \"))\n",
    "\n",
    "if num >= 20:\n",
    "    print(\"You are an adult.\")\n",
    "if num < 13:\n",
    "    print(\"You are a child.\")\n",
    "if num >= 13 and num <= 19:\n",
    "    print(\"You are a teen.\")\n",
    "\n",
    "\n",
    "\n"
   ]
  },
  {
   "cell_type": "markdown",
   "id": "nw7wb-g8O3dP",
   "metadata": {
    "id": "nw7wb-g8O3dP"
   },
   "source": [
    "**Question 5:**\n",
    "Write a program to find the largest among three numbers."
   ]
  },
  {
   "cell_type": "code",
   "execution_count": null,
   "id": "2gmW4HjPO3je",
   "metadata": {
    "executionInfo": {
     "elapsed": 162,
     "status": "ok",
     "timestamp": 1707086726483,
     "user": {
      "displayName": "Masoud Rostami",
      "userId": "15391601920485146188"
     },
     "user_tz": 360
    },
    "id": "2gmW4HjPO3je"
   },
   "outputs": [],
   "source": [
    "num_1 = float(input(\"What is your first number?: \"))\n",
    "num_2 = float(input(\"What is your second number?: \"))\n",
    "num_3 = float(input(\"What is your third number?: \"))\n",
    "if num_1 > (num_2 and num_3):\n",
    "    print(str(num1) + \" is the largest of the three numbers.\")\n",
    "if num_2 > (num_1 and num_3):\n",
    "    print(str(num2) + \" is the largest of the three numbers.\")\n",
    "if num_3 > (num_2 and num_1):\n",
    "    print(str(num_3) + \" is the largest of the three numbers.\")\n",
    "\n",
    "\n",
    "\n"
   ]
  },
  {
   "cell_type": "markdown",
   "id": "agt3rtDOO3ry",
   "metadata": {
    "id": "agt3rtDOO3ry"
   },
   "source": [
    "**Question 6:** Write a program to check if a year is a leap year."
   ]
  },
  {
   "cell_type": "code",
   "execution_count": null,
   "id": "RC1f1IJnO3x1",
   "metadata": {
    "executionInfo": {
     "elapsed": 136,
     "status": "ok",
     "timestamp": 1707086730076,
     "user": {
      "displayName": "Masoud Rostami",
      "userId": "15391601920485146188"
     },
     "user_tz": 360
    },
    "id": "RC1f1IJnO3x1"
   },
   "outputs": [],
   "source": [
    "year = float(input(\"What is the year?: \"))\n",
    "\n",
    "x = year % 4\n",
    "\n",
    "\n",
    "if x == 0:\n",
    "    y = year % 100\n",
    "    if y == 0:\n",
    "        z = year % 400\n",
    "        if z == 0:\n",
    "            print(str(int(year)) + \" is a leap year.\")\n",
    "        else:\n",
    "            print(str(int(year)) + \" is not a leap year.\")\n",
    "    else:\n",
    "        print(str(int(year)) + \" is a leap year.\")\n",
    "else:\n",
    "    print(str(int(year)) + \" is not a leap year.\")\n",
    "\n",
    "\n",
    "\n"
   ]
  },
  {
   "cell_type": "markdown",
   "id": "otK-kNuDO3-t",
   "metadata": {
    "id": "otK-kNuDO3-t"
   },
   "source": [
    "**Question 7:** Write a for loop that prints numbers from 1 to 10.\n",
    "Answer:"
   ]
  },
  {
   "cell_type": "code",
   "execution_count": null,
   "id": "xGVaefEKO4Gl",
   "metadata": {
    "executionInfo": {
     "elapsed": 135,
     "status": "ok",
     "timestamp": 1707086734885,
     "user": {
      "displayName": "Masoud Rostami",
      "userId": "15391601920485146188"
     },
     "user_tz": 360
    },
    "id": "xGVaefEKO4Gl"
   },
   "outputs": [],
   "source": [
    "for x in range(1, 11):\n",
    "    print(x)\n",
    "\n",
    "\n",
    "\n",
    "\n",
    "\n",
    "\n",
    "\n",
    "\n",
    "\n",
    "\n"
   ]
  },
  {
   "cell_type": "markdown",
   "id": "o7wDAoawQYP2",
   "metadata": {
    "id": "o7wDAoawQYP2"
   },
   "source": [
    "**Question 8:** Use a for loop to print all even numbers between 1 and 20.\n",
    "Answer:"
   ]
  },
  {
   "cell_type": "code",
   "execution_count": null,
   "id": "ACihkllHQYWn",
   "metadata": {
    "executionInfo": {
     "elapsed": 131,
     "status": "ok",
     "timestamp": 1707086737830,
     "user": {
      "displayName": "Masoud Rostami",
      "userId": "15391601920485146188"
     },
     "user_tz": 360
    },
    "id": "ACihkllHQYWn"
   },
   "outputs": [],
   "source": [
    "for x in range(1, 21):\n",
    "    y = x % 2\n",
    "    if (y) == 0:\n",
    "        print(x)\n",
    "    else:\n",
    "        if y != 0:\n",
    "            continue\n",
    "\n",
    "\n",
    "\n",
    "\n",
    "\n",
    "\n",
    "\n",
    "\n"
   ]
  },
  {
   "cell_type": "markdown",
   "id": "IkrL759eQcb-",
   "metadata": {
    "id": "IkrL759eQcb-"
   },
   "source": [
    "**Question 9:** Write a for loop that counts down from 10 to 1."
   ]
  },
  {
   "cell_type": "code",
   "execution_count": null,
   "id": "eurCUDCgQcjA",
   "metadata": {
    "executionInfo": {
     "elapsed": 197,
     "status": "ok",
     "timestamp": 1707086741738,
     "user": {
      "displayName": "Masoud Rostami",
      "userId": "15391601920485146188"
     },
     "user_tz": 360
    },
    "id": "eurCUDCgQcjA"
   },
   "outputs": [],
   "source": [
    "for x in range(10, 0, -1):\n",
    "    print(x)\n",
    "\n",
    "\n",
    "\n",
    "\n",
    "\n",
    "\n",
    "\n",
    "\n",
    "\n",
    "\n",
    "\n"
   ]
  },
  {
   "cell_type": "markdown",
   "id": "9dCBvJewQcqg",
   "metadata": {
    "id": "9dCBvJewQcqg"
   },
   "source": [
    "**Question 10:** Write a while loop that prints \"Hello\" 5 times."
   ]
  },
  {
   "cell_type": "code",
   "execution_count": null,
   "id": "s1584e9GQcwQ",
   "metadata": {
    "executionInfo": {
     "elapsed": 188,
     "status": "ok",
     "timestamp": 1707086745294,
     "user": {
      "displayName": "Masoud Rostami",
      "userId": "15391601920485146188"
     },
     "user_tz": 360
    },
    "id": "s1584e9GQcwQ"
   },
   "outputs": [],
   "source": [
    "wrd = \"Hello\"\n",
    "count = 0\n",
    "while count <= 4:   \n",
    "    count = count+1\n",
    "    print(wrd)\n",
    "    continue\n",
    "\n",
    "\n",
    "\n",
    "\n",
    "\n",
    "\n",
    "\n",
    "\n",
    "\n",
    "\n"
   ]
  },
  {
   "cell_type": "markdown",
   "id": "Pq7Agon3QhzN",
   "metadata": {
    "id": "Pq7Agon3QhzN"
   },
   "source": [
    "**Question 11:** Use a while loop to continuously ask the user for input until they enter 'quit'."
   ]
  },
  {
   "cell_type": "code",
   "execution_count": 3,
   "id": "TFynU9VaQh7Q",
   "metadata": {
    "executionInfo": {
     "elapsed": 149,
     "status": "ok",
     "timestamp": 1707086749191,
     "user": {
      "displayName": "Masoud Rostami",
      "userId": "15391601920485146188"
     },
     "user_tz": 360
    },
    "id": "TFynU9VaQh7Q"
   },
   "outputs": [
    {
     "name": "stdout",
     "output_type": "stream",
     "text": [
      "What is your input?: quit\n"
     ]
    }
   ],
   "source": [
    "while True:\n",
    "    count = input(\"What is your input?: \")\n",
    "    if count == \"Quit\" or count == \"quit\":\n",
    "        break\n",
    "\n",
    "\n",
    "\n",
    "\n",
    "\n",
    "\n",
    "\n"
   ]
  },
  {
   "cell_type": "markdown",
   "id": "HeNAXXMtSYKU",
   "metadata": {
    "id": "HeNAXXMtSYKU"
   },
   "source": [
    "**Question 12:** Write a program that uses a while loop to sum numbers entered by the user until the user enters 0. Print the total sum after the loop ends."
   ]
  },
  {
   "cell_type": "code",
   "execution_count": 13,
   "id": "cWoq698SSYTo",
   "metadata": {
    "executionInfo": {
     "elapsed": 180,
     "status": "ok",
     "timestamp": 1707086753431,
     "user": {
      "displayName": "Masoud Rostami",
      "userId": "15391601920485146188"
     },
     "user_tz": 360
    },
    "id": "cWoq698SSYTo"
   },
   "outputs": [
    {
     "name": "stdout",
     "output_type": "stream",
     "text": [
      "What is your input?: w\n",
      "This is not a valid input. Try again.\n",
      "What is your input?: w\n",
      "This is not a valid input. Try again.\n",
      "What is your input?: 1\n",
      "What is your input?: 2\n",
      "What is your input?: d\n",
      "This is not a valid input. Try again.\n",
      "What is your input?: 3\n",
      "What is your input?: 0\n",
      "6.0\n"
     ]
    }
   ],
   "source": [
    "num_sum = 0\n",
    "while True:\n",
    "    count = input(\"What is your input?: \")\n",
    "    if count.isupper() == True or count.islower() == True:\n",
    "        print(\"This is not a valid input. Try again.\")\n",
    "        continue\n",
    "    else:\n",
    "        num_sum = num_sum + float(count)\n",
    "        if count == \"0\":\n",
    "            print(num_sum)\n",
    "            break\n",
    "    \n",
    "\n",
    "\n",
    "\n",
    "\n",
    "\n",
    "\n",
    "\n",
    "\n",
    "\n",
    "\n",
    "\n"
   ]
  }
 ],
 "metadata": {
  "colab": {
   "provenance": []
  },
  "kernelspec": {
   "display_name": "Python 3 (ipykernel)",
   "language": "python",
   "name": "python3"
  },
  "language_info": {
   "codemirror_mode": {
    "name": "ipython",
    "version": 3
   },
   "file_extension": ".py",
   "mimetype": "text/x-python",
   "name": "python",
   "nbconvert_exporter": "python",
   "pygments_lexer": "ipython3",
   "version": "3.11.5"
  }
 },
 "nbformat": 4,
 "nbformat_minor": 5
}
